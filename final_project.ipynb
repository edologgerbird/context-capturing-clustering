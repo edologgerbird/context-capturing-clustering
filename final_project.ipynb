{
 "cells": [
  {
   "cell_type": "markdown",
   "metadata": {},
   "source": [
    "We start by loading in the Twitter dataset as described in the synopsis. "
   ]
  },
  {
   "cell_type": "code",
   "execution_count": 2,
   "metadata": {},
   "outputs": [
    {
     "name": "stderr",
     "output_type": "stream",
     "text": [
      "[nltk_data] Downloading package words to\n",
      "[nltk_data]     C:\\Users\\bubuw\\AppData\\Roaming\\nltk_data...\n",
      "[nltk_data]   Package words is already up-to-date!\n"
     ]
    }
   ],
   "source": [
    "import gc\n",
    "import string\n",
    "import re\n",
    "import numpy as np\n",
    "import pandas as pd\n",
    "import nltk\n",
    "nltk.download('words')\n",
    "import gensim.downloader as api\n",
    "import matplotlib.pyplot as plt"
   ]
  },
  {
   "cell_type": "markdown",
   "metadata": {},
   "source": [
    "Load in the raw data"
   ]
  },
  {
   "cell_type": "code",
   "execution_count": 3,
   "metadata": {},
   "outputs": [],
   "source": [
    "raw = pd.read_csv('training.1600000.processed.noemoticon.csv', encoding='ISO-8859-1', on_bad_lines='skip', names='target,user_id,date,flag,user,text'.split(','))"
   ]
  },
  {
   "cell_type": "markdown",
   "metadata": {},
   "source": [
    "Initial data exploration"
   ]
  },
  {
   "cell_type": "code",
   "execution_count": 3,
   "metadata": {},
   "outputs": [
    {
     "data": {
      "text/html": [
       "<div>\n",
       "<style scoped>\n",
       "    .dataframe tbody tr th:only-of-type {\n",
       "        vertical-align: middle;\n",
       "    }\n",
       "\n",
       "    .dataframe tbody tr th {\n",
       "        vertical-align: top;\n",
       "    }\n",
       "\n",
       "    .dataframe thead th {\n",
       "        text-align: right;\n",
       "    }\n",
       "</style>\n",
       "<table border=\"1\" class=\"dataframe\">\n",
       "  <thead>\n",
       "    <tr style=\"text-align: right;\">\n",
       "      <th></th>\n",
       "      <th>target</th>\n",
       "      <th>user_id</th>\n",
       "      <th>date</th>\n",
       "      <th>flag</th>\n",
       "      <th>user</th>\n",
       "      <th>text</th>\n",
       "    </tr>\n",
       "  </thead>\n",
       "  <tbody>\n",
       "    <tr>\n",
       "      <th>0</th>\n",
       "      <td>0</td>\n",
       "      <td>1467810369</td>\n",
       "      <td>Mon Apr 06 22:19:45 PDT 2009</td>\n",
       "      <td>NO_QUERY</td>\n",
       "      <td>_TheSpecialOne_</td>\n",
       "      <td>@switchfoot http://twitpic.com/2y1zl - Awww, t...</td>\n",
       "    </tr>\n",
       "    <tr>\n",
       "      <th>1</th>\n",
       "      <td>0</td>\n",
       "      <td>1467810672</td>\n",
       "      <td>Mon Apr 06 22:19:49 PDT 2009</td>\n",
       "      <td>NO_QUERY</td>\n",
       "      <td>scotthamilton</td>\n",
       "      <td>is upset that he can't update his Facebook by ...</td>\n",
       "    </tr>\n",
       "    <tr>\n",
       "      <th>2</th>\n",
       "      <td>0</td>\n",
       "      <td>1467810917</td>\n",
       "      <td>Mon Apr 06 22:19:53 PDT 2009</td>\n",
       "      <td>NO_QUERY</td>\n",
       "      <td>mattycus</td>\n",
       "      <td>@Kenichan I dived many times for the ball. Man...</td>\n",
       "    </tr>\n",
       "    <tr>\n",
       "      <th>3</th>\n",
       "      <td>0</td>\n",
       "      <td>1467811184</td>\n",
       "      <td>Mon Apr 06 22:19:57 PDT 2009</td>\n",
       "      <td>NO_QUERY</td>\n",
       "      <td>ElleCTF</td>\n",
       "      <td>my whole body feels itchy and like its on fire</td>\n",
       "    </tr>\n",
       "    <tr>\n",
       "      <th>4</th>\n",
       "      <td>0</td>\n",
       "      <td>1467811193</td>\n",
       "      <td>Mon Apr 06 22:19:57 PDT 2009</td>\n",
       "      <td>NO_QUERY</td>\n",
       "      <td>Karoli</td>\n",
       "      <td>@nationwideclass no, it's not behaving at all....</td>\n",
       "    </tr>\n",
       "  </tbody>\n",
       "</table>\n",
       "</div>"
      ],
      "text/plain": [
       "   target     user_id                          date      flag  \\\n",
       "0       0  1467810369  Mon Apr 06 22:19:45 PDT 2009  NO_QUERY   \n",
       "1       0  1467810672  Mon Apr 06 22:19:49 PDT 2009  NO_QUERY   \n",
       "2       0  1467810917  Mon Apr 06 22:19:53 PDT 2009  NO_QUERY   \n",
       "3       0  1467811184  Mon Apr 06 22:19:57 PDT 2009  NO_QUERY   \n",
       "4       0  1467811193  Mon Apr 06 22:19:57 PDT 2009  NO_QUERY   \n",
       "\n",
       "              user                                               text  \n",
       "0  _TheSpecialOne_  @switchfoot http://twitpic.com/2y1zl - Awww, t...  \n",
       "1    scotthamilton  is upset that he can't update his Facebook by ...  \n",
       "2         mattycus  @Kenichan I dived many times for the ball. Man...  \n",
       "3          ElleCTF    my whole body feels itchy and like its on fire   \n",
       "4           Karoli  @nationwideclass no, it's not behaving at all....  "
      ]
     },
     "execution_count": 3,
     "metadata": {},
     "output_type": "execute_result"
    }
   ],
   "source": [
    "raw.head()"
   ]
  },
  {
   "cell_type": "code",
   "execution_count": 4,
   "metadata": {},
   "outputs": [
    {
     "data": {
      "text/plain": [
       "0    800000\n",
       "4    800000\n",
       "Name: target, dtype: int64"
      ]
     },
     "execution_count": 4,
     "metadata": {},
     "output_type": "execute_result"
    }
   ],
   "source": [
    "raw['target'].value_counts()"
   ]
  },
  {
   "cell_type": "markdown",
   "metadata": {},
   "source": [
    "Sample 20,000 rows from the original dataset"
   ]
  },
  {
   "cell_type": "code",
   "execution_count": 5,
   "metadata": {},
   "outputs": [],
   "source": [
    "# stratified sampling\n",
    "tweets = raw.groupby('target').apply(lambda x: x.sample(10000, random_state=42))"
   ]
  },
  {
   "cell_type": "code",
   "execution_count": 6,
   "metadata": {},
   "outputs": [],
   "source": [
    "tweets = tweets.reset_index(drop=True)"
   ]
  },
  {
   "cell_type": "code",
   "execution_count": 7,
   "metadata": {},
   "outputs": [
    {
     "data": {
      "text/plain": [
       "0    10000\n",
       "4    10000\n",
       "Name: target, dtype: int64"
      ]
     },
     "execution_count": 7,
     "metadata": {},
     "output_type": "execute_result"
    }
   ],
   "source": [
    "tweets['target'].value_counts()"
   ]
  },
  {
   "cell_type": "code",
   "execution_count": 8,
   "metadata": {},
   "outputs": [
    {
     "data": {
      "text/html": [
       "<div>\n",
       "<style scoped>\n",
       "    .dataframe tbody tr th:only-of-type {\n",
       "        vertical-align: middle;\n",
       "    }\n",
       "\n",
       "    .dataframe tbody tr th {\n",
       "        vertical-align: top;\n",
       "    }\n",
       "\n",
       "    .dataframe thead th {\n",
       "        text-align: right;\n",
       "    }\n",
       "</style>\n",
       "<table border=\"1\" class=\"dataframe\">\n",
       "  <thead>\n",
       "    <tr style=\"text-align: right;\">\n",
       "      <th></th>\n",
       "      <th>target</th>\n",
       "      <th>user_id</th>\n",
       "      <th>date</th>\n",
       "      <th>flag</th>\n",
       "      <th>user</th>\n",
       "      <th>text</th>\n",
       "    </tr>\n",
       "  </thead>\n",
       "  <tbody>\n",
       "    <tr>\n",
       "      <th>0</th>\n",
       "      <td>0</td>\n",
       "      <td>1974671194</td>\n",
       "      <td>Sat May 30 13:36:31 PDT 2009</td>\n",
       "      <td>NO_QUERY</td>\n",
       "      <td>simba98</td>\n",
       "      <td>@xnausikaax oh no! where did u order from? tha...</td>\n",
       "    </tr>\n",
       "    <tr>\n",
       "      <th>1</th>\n",
       "      <td>0</td>\n",
       "      <td>1997882236</td>\n",
       "      <td>Mon Jun 01 17:37:11 PDT 2009</td>\n",
       "      <td>NO_QUERY</td>\n",
       "      <td>Seve76</td>\n",
       "      <td>A great hard training weekend is over.  a coup...</td>\n",
       "    </tr>\n",
       "    <tr>\n",
       "      <th>2</th>\n",
       "      <td>0</td>\n",
       "      <td>2177756662</td>\n",
       "      <td>Mon Jun 15 06:39:05 PDT 2009</td>\n",
       "      <td>NO_QUERY</td>\n",
       "      <td>x__claireyy__x</td>\n",
       "      <td>Right, off to work  Only 5 hours to go until I...</td>\n",
       "    </tr>\n",
       "    <tr>\n",
       "      <th>3</th>\n",
       "      <td>0</td>\n",
       "      <td>2216838047</td>\n",
       "      <td>Wed Jun 17 20:02:12 PDT 2009</td>\n",
       "      <td>NO_QUERY</td>\n",
       "      <td>Balasi</td>\n",
       "      <td>I am craving for japanese food</td>\n",
       "    </tr>\n",
       "    <tr>\n",
       "      <th>4</th>\n",
       "      <td>0</td>\n",
       "      <td>1880666283</td>\n",
       "      <td>Fri May 22 02:03:31 PDT 2009</td>\n",
       "      <td>NO_QUERY</td>\n",
       "      <td>djrickdawson</td>\n",
       "      <td>Jean Michel Jarre concert tomorrow  gotta work...</td>\n",
       "    </tr>\n",
       "  </tbody>\n",
       "</table>\n",
       "</div>"
      ],
      "text/plain": [
       "   target     user_id                          date      flag            user  \\\n",
       "0       0  1974671194  Sat May 30 13:36:31 PDT 2009  NO_QUERY         simba98   \n",
       "1       0  1997882236  Mon Jun 01 17:37:11 PDT 2009  NO_QUERY          Seve76   \n",
       "2       0  2177756662  Mon Jun 15 06:39:05 PDT 2009  NO_QUERY  x__claireyy__x   \n",
       "3       0  2216838047  Wed Jun 17 20:02:12 PDT 2009  NO_QUERY          Balasi   \n",
       "4       0  1880666283  Fri May 22 02:03:31 PDT 2009  NO_QUERY    djrickdawson   \n",
       "\n",
       "                                                text  \n",
       "0  @xnausikaax oh no! where did u order from? tha...  \n",
       "1  A great hard training weekend is over.  a coup...  \n",
       "2  Right, off to work  Only 5 hours to go until I...  \n",
       "3                    I am craving for japanese food   \n",
       "4  Jean Michel Jarre concert tomorrow  gotta work...  "
      ]
     },
     "execution_count": 8,
     "metadata": {},
     "output_type": "execute_result"
    }
   ],
   "source": [
    "tweets.head()"
   ]
  },
  {
   "cell_type": "markdown",
   "metadata": {},
   "source": [
    "Now, we write a function that cleans the data. I will detail what each line of code does to make it clear."
   ]
  },
  {
   "cell_type": "code",
   "execution_count": 9,
   "metadata": {},
   "outputs": [],
   "source": [
    "# apply this to each tweet\n",
    "def clean_data(tweet):\n",
    "    # removal of punctuations\n",
    "    tweet = re.sub(\"[^-9A-Za-z ]\", \"\" , tweet)\n",
    "    # convert to lowercase\n",
    "    tweet = \"\".join([i.lower() for i in tweet if i not in string.punctuation])\n",
    "    # tokenize the words temporarily\n",
    "    word_tokens = nltk.tokenize.word_tokenize(tweet)\n",
    "    # removal of non-alphabetical words\n",
    "    word_tokens = [w for w in word_tokens if w.isalpha()]\n",
    "    # removal of non-english words like usernames\n",
    "    words = set(nltk.corpus.words.words())\n",
    "    word_tokens = [w for w in word_tokens if w in words]\n",
    "    # removal of stop-words\n",
    "    stop_words = nltk.corpus.stopwords.words('english')\n",
    "    word_tokens = [w for w in word_tokens if not w in stop_words]\n",
    "    # # stemming\n",
    "    # stemmer = nltk.stem.PorterStemmer()\n",
    "    # word_tokens = [stemmer.stem(w) for w in word_tokens]\n",
    "    # join back as string\n",
    "    tweet = \" \".join(word_tokens)\n",
    "    return tweet"
   ]
  },
  {
   "cell_type": "code",
   "execution_count": 12,
   "metadata": {},
   "outputs": [
    {
     "name": "stdout",
     "output_type": "stream",
     "text": [
      "Original: @xnausikaax oh no! where did u order from? that's horrible \n",
      "Processed: oh u order that horribl\n"
     ]
    }
   ],
   "source": [
    "# compare the tweet before and after processing\n",
    "print('Original:', tweets['text'][0])\n",
    "print('Processed:', clean_data(tweets['text'][0]))"
   ]
  },
  {
   "cell_type": "code",
   "execution_count": null,
   "metadata": {},
   "outputs": [],
   "source": [
    "tweets['cleaned_text'] = tweets['text'].apply(clean_data)\n",
    "tweets = tweets.drop(columns=['text'])\n",
    "tweets.head()"
   ]
  },
  {
   "cell_type": "code",
   "execution_count": 14,
   "metadata": {},
   "outputs": [
    {
     "data": {
      "text/plain": [
       "2159"
      ]
     },
     "execution_count": 14,
     "metadata": {},
     "output_type": "execute_result"
    }
   ],
   "source": [
    "import gc\n",
    "gc.collect()"
   ]
  },
  {
   "cell_type": "markdown",
   "metadata": {},
   "source": [
    "Save as a csv file"
   ]
  },
  {
   "cell_type": "code",
   "execution_count": null,
   "metadata": {},
   "outputs": [],
   "source": [
    "tweets.to_csv('tweets.csv')"
   ]
  },
  {
   "cell_type": "markdown",
   "metadata": {},
   "source": [
    "Now, we have the sampled dataset with pre-processed tweet text."
   ]
  },
  {
   "cell_type": "code",
   "execution_count": 15,
   "metadata": {},
   "outputs": [],
   "source": [
    "tweets = pd.read_csv('tweets.csv', index_col=0)"
   ]
  },
  {
   "cell_type": "code",
   "execution_count": 16,
   "metadata": {},
   "outputs": [],
   "source": [
    "tweets = tweets.drop(columns=['user_id', 'date', 'flag', 'user'])"
   ]
  },
  {
   "cell_type": "code",
   "execution_count": 17,
   "metadata": {},
   "outputs": [
    {
     "data": {
      "text/html": [
       "<div>\n",
       "<style scoped>\n",
       "    .dataframe tbody tr th:only-of-type {\n",
       "        vertical-align: middle;\n",
       "    }\n",
       "\n",
       "    .dataframe tbody tr th {\n",
       "        vertical-align: top;\n",
       "    }\n",
       "\n",
       "    .dataframe thead th {\n",
       "        text-align: right;\n",
       "    }\n",
       "</style>\n",
       "<table border=\"1\" class=\"dataframe\">\n",
       "  <thead>\n",
       "    <tr style=\"text-align: right;\">\n",
       "      <th></th>\n",
       "      <th>target</th>\n",
       "      <th>cleaned_text</th>\n",
       "    </tr>\n",
       "  </thead>\n",
       "  <tbody>\n",
       "    <tr>\n",
       "      <th>0</th>\n",
       "      <td>0</td>\n",
       "      <td>oh u order that horribl</td>\n",
       "    </tr>\n",
       "    <tr>\n",
       "      <th>1</th>\n",
       "      <td>0</td>\n",
       "      <td>great hard train weekend coupl day rest lot co...</td>\n",
       "    </tr>\n",
       "    <tr>\n",
       "      <th>2</th>\n",
       "      <td>0</td>\n",
       "      <td>right work go free</td>\n",
       "    </tr>\n",
       "    <tr>\n",
       "      <th>3</th>\n",
       "      <td>0</td>\n",
       "      <td>crave food</td>\n",
       "    </tr>\n",
       "    <tr>\n",
       "      <th>4</th>\n",
       "      <td>0</td>\n",
       "      <td>jean concert tomorrow got ta work though</td>\n",
       "    </tr>\n",
       "  </tbody>\n",
       "</table>\n",
       "</div>"
      ],
      "text/plain": [
       "   target                                       cleaned_text\n",
       "0       0                            oh u order that horribl\n",
       "1       0  great hard train weekend coupl day rest lot co...\n",
       "2       0                                 right work go free\n",
       "3       0                                         crave food\n",
       "4       0           jean concert tomorrow got ta work though"
      ]
     },
     "execution_count": 17,
     "metadata": {},
     "output_type": "execute_result"
    }
   ],
   "source": [
    "tweets.head()"
   ]
  },
  {
   "cell_type": "markdown",
   "metadata": {},
   "source": [
    "Remove any rows that have missing null values for cleaned text. \n",
    "This ensures that the pre-trained model has no issues processing the text."
   ]
  },
  {
   "cell_type": "code",
   "execution_count": 18,
   "metadata": {},
   "outputs": [],
   "source": [
    "tweets = tweets.dropna(axis=0)"
   ]
  },
  {
   "cell_type": "code",
   "execution_count": 21,
   "metadata": {},
   "outputs": [],
   "source": [
    "tweets['target'] = tweets['target'].apply(lambda x: 1 if x==4 else 0)"
   ]
  },
  {
   "cell_type": "markdown",
   "metadata": {},
   "source": [
    "Now, we obtain the phrasal embeddings for each cleaned tweet text in the tweets dataframe.\n",
    "We use the GloVe Twitter 25 model, which contains pre-trained GloVe vectors based on 2 billion tweets, 27 billion tokens, and 1.2 million vocabulary."
   ]
  },
  {
   "cell_type": "markdown",
   "metadata": {},
   "source": [
    "Load in the pre-trained model"
   ]
  },
  {
   "cell_type": "code",
   "execution_count": 66,
   "metadata": {},
   "outputs": [],
   "source": [
    "model = api.load('glove-twitter-25')"
   ]
  },
  {
   "cell_type": "code",
   "execution_count": 24,
   "metadata": {},
   "outputs": [
    {
     "data": {
      "text/html": [
       "<div>\n",
       "<style scoped>\n",
       "    .dataframe tbody tr th:only-of-type {\n",
       "        vertical-align: middle;\n",
       "    }\n",
       "\n",
       "    .dataframe tbody tr th {\n",
       "        vertical-align: top;\n",
       "    }\n",
       "\n",
       "    .dataframe thead th {\n",
       "        text-align: right;\n",
       "    }\n",
       "</style>\n",
       "<table border=\"1\" class=\"dataframe\">\n",
       "  <thead>\n",
       "    <tr style=\"text-align: right;\">\n",
       "      <th></th>\n",
       "      <th>target</th>\n",
       "      <th>cleaned_text</th>\n",
       "      <th>tokenized_text</th>\n",
       "    </tr>\n",
       "  </thead>\n",
       "  <tbody>\n",
       "    <tr>\n",
       "      <th>0</th>\n",
       "      <td>0</td>\n",
       "      <td>oh u order that horribl</td>\n",
       "      <td>[[0.34172, -0.17305, 0.23311, 0.057375, -0.761...</td>\n",
       "    </tr>\n",
       "    <tr>\n",
       "      <th>1</th>\n",
       "      <td>0</td>\n",
       "      <td>great hard train weekend coupl day rest lot co...</td>\n",
       "      <td>[[-0.84229, 0.36512, -0.38841, -0.46118, 0.243...</td>\n",
       "    </tr>\n",
       "    <tr>\n",
       "      <th>2</th>\n",
       "      <td>0</td>\n",
       "      <td>right work go free</td>\n",
       "      <td>[[-0.43876, 0.095692, 0.0030075, -0.13195, -0....</td>\n",
       "    </tr>\n",
       "    <tr>\n",
       "      <th>3</th>\n",
       "      <td>0</td>\n",
       "      <td>crave food</td>\n",
       "      <td>[[-0.85832, 0.48558, -0.61313, 0.72877, -0.656...</td>\n",
       "    </tr>\n",
       "    <tr>\n",
       "      <th>4</th>\n",
       "      <td>0</td>\n",
       "      <td>jean concert tomorrow got ta work though</td>\n",
       "      <td>[[-0.70756, -1.2247, 0.087766, 0.27264, -0.412...</td>\n",
       "    </tr>\n",
       "  </tbody>\n",
       "</table>\n",
       "</div>"
      ],
      "text/plain": [
       "   target                                       cleaned_text  \\\n",
       "0       0                            oh u order that horribl   \n",
       "1       0  great hard train weekend coupl day rest lot co...   \n",
       "2       0                                 right work go free   \n",
       "3       0                                         crave food   \n",
       "4       0           jean concert tomorrow got ta work though   \n",
       "\n",
       "                                      tokenized_text  \n",
       "0  [[0.34172, -0.17305, 0.23311, 0.057375, -0.761...  \n",
       "1  [[-0.84229, 0.36512, -0.38841, -0.46118, 0.243...  \n",
       "2  [[-0.43876, 0.095692, 0.0030075, -0.13195, -0....  \n",
       "3  [[-0.85832, 0.48558, -0.61313, 0.72877, -0.656...  \n",
       "4  [[-0.70756, -1.2247, 0.087766, 0.27264, -0.412...  "
      ]
     },
     "execution_count": 24,
     "metadata": {},
     "output_type": "execute_result"
    }
   ],
   "source": [
    "# takes in a tweet and outputs a list of word embeddings for each word\n",
    "def get_embeddings(text):\n",
    "    return np.array([model[w] for w in text.split() if model.__contains__(w)])\n",
    "\n",
    "tweets['tokenized_text'] = tweets['cleaned_text'].apply(get_embeddings)\n",
    "tweets.head()"
   ]
  },
  {
   "cell_type": "code",
   "execution_count": 52,
   "metadata": {},
   "outputs": [
    {
     "data": {
      "text/plain": [
       "array([0., 0., 0., 0., 0., 0., 0., 0., 0., 0., 0., 0., 0., 0., 0., 0., 0.,\n",
       "       0., 0., 0., 0., 0., 0., 0., 0.], dtype=float32)"
      ]
     },
     "execution_count": 52,
     "metadata": {},
     "output_type": "execute_result"
    }
   ],
   "source": [
    "sum([tweets['tokenized_text'][0][0], tweets['tokenized_text'][0][0]]) - tweets['tokenized_text'][0][0]*2\n",
    "\n"
   ]
  },
  {
   "cell_type": "markdown",
   "metadata": {},
   "source": [
    "Save as a csv file"
   ]
  },
  {
   "cell_type": "code",
   "execution_count": 25,
   "metadata": {},
   "outputs": [],
   "source": [
    "tweets.to_csv('tweets.csv')"
   ]
  },
  {
   "cell_type": "markdown",
   "metadata": {},
   "source": [
    "## Defining the Cluster Points and Centroids\n",
    "\n",
    "In this section, we will define the cluster points and centroids in an OOP format. "
   ]
  },
  {
   "cell_type": "code",
   "execution_count": 10,
   "metadata": {},
   "outputs": [
    {
     "name": "stderr",
     "output_type": "stream",
     "text": [
      "[nltk_data] Downloading package words to\n",
      "[nltk_data]     C:\\Users\\bubuw\\AppData\\Roaming\\nltk_data...\n",
      "[nltk_data]   Package words is already up-to-date!\n"
     ]
    }
   ],
   "source": [
    "from sklearn.model_selection import train_test_split\n",
    "from sklearn.metrics.pairwise import cosine_similarity\n",
    "from sklearn.manifold import TSNE\n",
    "\n",
    "from vaderSentiment.vaderSentiment import SentimentIntensityAnalyzer\n",
    "import gc\n",
    "import string\n",
    "import re\n",
    "import numpy as np\n",
    "import pandas as pd\n",
    "import nltk\n",
    "nltk.download('words')\n",
    "import gensim.downloader as gensim_api\n",
    "import matplotlib.pyplot as plt\n",
    "from tqdm import tqdm\n",
    "from scipy import spatial\n",
    "\n",
    "from sklearn.linear_model import PassiveAggressiveClassifier\n",
    "from sklearn.linear_model import LogisticRegression\n",
    "from sklearn.metrics import confusion_matrix, classification_report, accuracy_score, log_loss, precision_score, recall_score, roc_auc_score\n"
   ]
  },
  {
   "cell_type": "code",
   "execution_count": 3,
   "metadata": {},
   "outputs": [
    {
     "data": {
      "text/plain": "       target                                       cleaned_text  \\\n0           0                          oh u order thats horrible   \n1           0  great hard training weekend couple days rest l...   \n2           0                                 right work go free   \n3           0                                       craving food   \n4           0           jean concert tomorrow got ta work though   \n...       ...                                                ...   \n19995       1             arms morning baby face boy guitar hero   \n19996       1                  sweet mother extend royal welcome   \n19997       1             wouldnt mind watching derby mint julep   \n19998       1      shiny nice like shiny hate vista mean passion   \n19999       1                                       lake outside   \n\n                                          tokenized_text  \n0      [[ 3.4172e-01 -1.7305e-01  2.3311e-01  5.7375e...  \n1      [[-8.4229e-01  3.6512e-01 -3.8841e-01 -4.6118e...  \n2      [[-4.3876e-01  9.5692e-02  3.0075e-03 -1.3195e...  \n3      [[-1.2275    0.61425   0.23204   0.4787   -0.5...  \n4      [[-7.0756e-01 -1.2247e+00  8.7766e-02  2.7264e...  \n...                                                  ...  \n19995  [[-1.4197   -0.59392   0.034198  0.7004    0.1...  \n19996  [[-1.0864   -0.61674   0.33613   0.43232  -0.2...  \n19997  [[ 5.7749e-02  1.3264e+00 -1.6871e-02 -5.5858e...  \n19998  [[-9.4931e-01 -5.5718e-01  1.3540e-01 -1.2416e...  \n19999  [[-2.4857   -0.82327   0.31095  -0.42148  -1.6...  \n\n[19479 rows x 3 columns]",
      "text/html": "<div>\n<style scoped>\n    .dataframe tbody tr th:only-of-type {\n        vertical-align: middle;\n    }\n\n    .dataframe tbody tr th {\n        vertical-align: top;\n    }\n\n    .dataframe thead th {\n        text-align: right;\n    }\n</style>\n<table border=\"1\" class=\"dataframe\">\n  <thead>\n    <tr style=\"text-align: right;\">\n      <th></th>\n      <th>target</th>\n      <th>cleaned_text</th>\n      <th>tokenized_text</th>\n    </tr>\n  </thead>\n  <tbody>\n    <tr>\n      <th>0</th>\n      <td>0</td>\n      <td>oh u order thats horrible</td>\n      <td>[[ 3.4172e-01 -1.7305e-01  2.3311e-01  5.7375e...</td>\n    </tr>\n    <tr>\n      <th>1</th>\n      <td>0</td>\n      <td>great hard training weekend couple days rest l...</td>\n      <td>[[-8.4229e-01  3.6512e-01 -3.8841e-01 -4.6118e...</td>\n    </tr>\n    <tr>\n      <th>2</th>\n      <td>0</td>\n      <td>right work go free</td>\n      <td>[[-4.3876e-01  9.5692e-02  3.0075e-03 -1.3195e...</td>\n    </tr>\n    <tr>\n      <th>3</th>\n      <td>0</td>\n      <td>craving food</td>\n      <td>[[-1.2275    0.61425   0.23204   0.4787   -0.5...</td>\n    </tr>\n    <tr>\n      <th>4</th>\n      <td>0</td>\n      <td>jean concert tomorrow got ta work though</td>\n      <td>[[-7.0756e-01 -1.2247e+00  8.7766e-02  2.7264e...</td>\n    </tr>\n    <tr>\n      <th>...</th>\n      <td>...</td>\n      <td>...</td>\n      <td>...</td>\n    </tr>\n    <tr>\n      <th>19995</th>\n      <td>1</td>\n      <td>arms morning baby face boy guitar hero</td>\n      <td>[[-1.4197   -0.59392   0.034198  0.7004    0.1...</td>\n    </tr>\n    <tr>\n      <th>19996</th>\n      <td>1</td>\n      <td>sweet mother extend royal welcome</td>\n      <td>[[-1.0864   -0.61674   0.33613   0.43232  -0.2...</td>\n    </tr>\n    <tr>\n      <th>19997</th>\n      <td>1</td>\n      <td>wouldnt mind watching derby mint julep</td>\n      <td>[[ 5.7749e-02  1.3264e+00 -1.6871e-02 -5.5858e...</td>\n    </tr>\n    <tr>\n      <th>19998</th>\n      <td>1</td>\n      <td>shiny nice like shiny hate vista mean passion</td>\n      <td>[[-9.4931e-01 -5.5718e-01  1.3540e-01 -1.2416e...</td>\n    </tr>\n    <tr>\n      <th>19999</th>\n      <td>1</td>\n      <td>lake outside</td>\n      <td>[[-2.4857   -0.82327   0.31095  -0.42148  -1.6...</td>\n    </tr>\n  </tbody>\n</table>\n<p>19479 rows × 3 columns</p>\n</div>"
     },
     "execution_count": 3,
     "metadata": {},
     "output_type": "execute_result"
    }
   ],
   "source": [
    "# model = api.load('glove-twitter-25')\n",
    "tweets = pd.read_csv('tweets.csv', index_col=0)\n",
    "tweets"
   ]
  },
  {
   "cell_type": "markdown",
   "metadata": {},
   "source": [
    "### Splitting Data into Training, Validation and Testing data\n",
    "\n",
    "In this section, we will be splitting the tweets into training, validation and testing sets. The proportion will be as follows:\n",
    "1. Training: 0.70\n",
    "2. Validating: 0.15\n",
    "3. Testing: 0.15"
   ]
  },
  {
   "cell_type": "code",
   "execution_count": 11,
   "metadata": {},
   "outputs": [],
   "source": [
    "TRAIN_SIZE = 0.70\n",
    "VAL_SIZE = 0.15\n",
    "TEST_SIZE = 0.15\n",
    "RANDOM_STATE = 42\n",
    "MAX_TWEET_LENGTH = 280"
   ]
  },
  {
   "cell_type": "code",
   "execution_count": 5,
   "metadata": {},
   "outputs": [
    {
     "data": {
      "text/plain": "       target                                       cleaned_text  \\\n9213        0                                      yolk best bit   \n18833       1                  fist one u bet second one yep fun   \n2357        0                                       lot hungry u   \n3696        0                                               neck   \n2889        0  pool goddess us lost next match wont going bet...   \n...       ...                                                ...   \n1481        0                tweet ya hard tweet u feel ur one n   \n15675       1                         ah see nope old great song   \n15190       1                    weird looking prize competition   \n16250       1          grew sticks one story warning shot course   \n1734        0  got back dentist got go tomorrow oh well get m...   \n\n                                          tokenized_text  \n9213   [[-1.7264e-01 -3.6231e-01  3.6885e-01  8.2955e...  \n18833  [[-9.4536e-01  4.2714e-01  2.9669e-01  9.2002e...  \n2357   [[ 1.6807e-01  4.8304e-01  3.1292e-02  3.9010e...  \n3696   [[-1.2556e+00 -5.3265e-01  1.5854e-01  8.2836e...  \n2889   [[-1.5123e+00  2.5732e-01  7.6255e-01 -4.6525e...  \n...                                                  ...  \n1481   [[ 1.3429e+00  3.2133e-01  2.4542e-01  7.0143e...  \n15675  [[ 6.1649e-01  2.4009e-02 -6.2036e-02  2.5425e...  \n15190  [[ 0.081818 -0.68275   0.76922  -0.16661   0.7...  \n16250  [[-5.4810e-01  2.4755e-01  1.2956e+00 -1.0218e...  \n1734   [[-3.4366e-01  1.2638e+00  1.1414e+00 -6.8691e...  \n\n[15000 rows x 3 columns]",
      "text/html": "<div>\n<style scoped>\n    .dataframe tbody tr th:only-of-type {\n        vertical-align: middle;\n    }\n\n    .dataframe tbody tr th {\n        vertical-align: top;\n    }\n\n    .dataframe thead th {\n        text-align: right;\n    }\n</style>\n<table border=\"1\" class=\"dataframe\">\n  <thead>\n    <tr style=\"text-align: right;\">\n      <th></th>\n      <th>target</th>\n      <th>cleaned_text</th>\n      <th>tokenized_text</th>\n    </tr>\n  </thead>\n  <tbody>\n    <tr>\n      <th>9213</th>\n      <td>0</td>\n      <td>yolk best bit</td>\n      <td>[[-1.7264e-01 -3.6231e-01  3.6885e-01  8.2955e...</td>\n    </tr>\n    <tr>\n      <th>18833</th>\n      <td>1</td>\n      <td>fist one u bet second one yep fun</td>\n      <td>[[-9.4536e-01  4.2714e-01  2.9669e-01  9.2002e...</td>\n    </tr>\n    <tr>\n      <th>2357</th>\n      <td>0</td>\n      <td>lot hungry u</td>\n      <td>[[ 1.6807e-01  4.8304e-01  3.1292e-02  3.9010e...</td>\n    </tr>\n    <tr>\n      <th>3696</th>\n      <td>0</td>\n      <td>neck</td>\n      <td>[[-1.2556e+00 -5.3265e-01  1.5854e-01  8.2836e...</td>\n    </tr>\n    <tr>\n      <th>2889</th>\n      <td>0</td>\n      <td>pool goddess us lost next match wont going bet...</td>\n      <td>[[-1.5123e+00  2.5732e-01  7.6255e-01 -4.6525e...</td>\n    </tr>\n    <tr>\n      <th>...</th>\n      <td>...</td>\n      <td>...</td>\n      <td>...</td>\n    </tr>\n    <tr>\n      <th>1481</th>\n      <td>0</td>\n      <td>tweet ya hard tweet u feel ur one n</td>\n      <td>[[ 1.3429e+00  3.2133e-01  2.4542e-01  7.0143e...</td>\n    </tr>\n    <tr>\n      <th>15675</th>\n      <td>1</td>\n      <td>ah see nope old great song</td>\n      <td>[[ 6.1649e-01  2.4009e-02 -6.2036e-02  2.5425e...</td>\n    </tr>\n    <tr>\n      <th>15190</th>\n      <td>1</td>\n      <td>weird looking prize competition</td>\n      <td>[[ 0.081818 -0.68275   0.76922  -0.16661   0.7...</td>\n    </tr>\n    <tr>\n      <th>16250</th>\n      <td>1</td>\n      <td>grew sticks one story warning shot course</td>\n      <td>[[-5.4810e-01  2.4755e-01  1.2956e+00 -1.0218e...</td>\n    </tr>\n    <tr>\n      <th>1734</th>\n      <td>0</td>\n      <td>got back dentist got go tomorrow oh well get m...</td>\n      <td>[[-3.4366e-01  1.2638e+00  1.1414e+00 -6.8691e...</td>\n    </tr>\n  </tbody>\n</table>\n<p>15000 rows × 3 columns</p>\n</div>"
     },
     "execution_count": 5,
     "metadata": {},
     "output_type": "execute_result"
    }
   ],
   "source": [
    "tweets_sampled = tweets.sample(15000, random_state=RANDOM_STATE)\n",
    "tweets_sampled"
   ]
  },
  {
   "cell_type": "code",
   "execution_count": 6,
   "metadata": {},
   "outputs": [],
   "source": [
    "X = tweets_sampled['cleaned_text']\n",
    "y = tweets_sampled.target"
   ]
  },
  {
   "cell_type": "code",
   "execution_count": 7,
   "metadata": {},
   "outputs": [
    {
     "name": "stdout",
     "output_type": "stream",
     "text": [
      "X_train: 10500 \n",
      "X_val: 2250 \n",
      "X_test: 2250 \n",
      "y_train: 10500 \n",
      "y_val: 2250 \n",
      "y_test: 2250 \n",
      "\n"
     ]
    }
   ],
   "source": [
    "X_train, X_valtest, y_train, y_valtest = train_test_split(X, y, train_size=TRAIN_SIZE, random_state=RANDOM_STATE, shuffle=True)\n",
    "X_val, X_test, y_val, y_test = train_test_split(X_valtest, y_valtest, test_size=(TEST_SIZE)/(TEST_SIZE+VAL_SIZE), random_state=RANDOM_STATE, shuffle=True)\n",
    "\n",
    "print(\n",
    "    f'X_train: {X_train.shape[0]} \\n'\n",
    "    f'X_val: {X_val.shape[0]} \\n'\n",
    "    f'X_test: {X_test.shape[0]} \\n'\n",
    "    f'y_train: {y_train.shape[0]} \\n'\n",
    "    f'y_val: {y_val.shape[0]} \\n'\n",
    "    f'y_test: {y_test.shape[0]} \\n'\n",
    ")"
   ]
  },
  {
   "cell_type": "markdown",
   "metadata": {},
   "source": [
    "##### Defining the Cluster Points and Centroids\n",
    "\n",
    "In this section, we will define the cluster points and centroids in an OOP format."
   ]
  },
  {
   "cell_type": "code",
   "execution_count": null,
   "metadata": {},
   "outputs": [],
   "source": [
    "class Point:\n",
    "    '''\n",
    "    A class used to represent each word in a document\n",
    "    ...\n",
    "\n",
    "    Attributes\n",
    "    ----------\n",
    "    word : str\n",
    "        The word represented by the point\n",
    "\n",
    "    vector : array\n",
    "        The vector representation of the word\n",
    "    \n",
    "    closest_centroid : Centroid\n",
    "        The closest centroid to the point\n",
    "\n",
    "    cosine_similarity_with_centroid : Centroid\n",
    "        The cosine similarity with the point's closest centroid\n",
    "\n",
    "    polarity : Float\n",
    "        The polarity of the point as determined by the polarity of its closest centroid\n",
    "\n",
    "\n",
    "    Methods\n",
    "    ----------\n",
    "    reset_point()\n",
    "        resets the Point's closest centroid, similarity score and polarity to None\n",
    "\n",
    "    set_centroid(centroid)\n",
    "        Stores the centroid the point is assigned to\n",
    "\n",
    "    set_cosine_similarity_with_centroid(similarity)\n",
    "        Sets the cosine similarity between the point and its closest centroid\n",
    "\n",
    "    set_polarity(polarity)\n",
    "        Sets the polarity of the point as determined by the polarity of its closest centroid\n",
    "\n",
    "    get_cosine_similarity_with_centroid(mean_distance=False)\n",
    "        Returns the cosine similarity\n",
    "\n",
    "    '''\n",
    "    def __init__(self, word, model):\n",
    "        self.word = word \n",
    "        self.vector = model[word] if model.__contains__(word) else None\n",
    "        self.closest_centroid = None\n",
    "        self.cosine_similarity_with_centroid = None\n",
    "        self.polarity = None\n",
    "\n",
    "    def reset_point(self):\n",
    "        self.closest_centroid = None\n",
    "        self.cosine_similarity_with_centroid = None\n",
    "        self.polarity = None\n",
    "        return True\n",
    "\n",
    "    def set_centroid(self, centroid):\n",
    "        self.closest_centroid = centroid\n",
    "        return True\n",
    "\n",
    "    def set_cosine_similarity_with_centroid(self, similarity):\n",
    "        self.cosine_similarity_with_centroid = similarity\n",
    "        return True\n",
    "\n",
    "    def set_polarity(self, polarity):\n",
    "        self.polarity = polarity\n",
    "        return True\n",
    "\n",
    "    def get_cosine_similarity_with_centroid(self, mean_distance=False):\n",
    "        if self.closest_centroid is not None:\n",
    "            if not mean_distance:\n",
    "                return self.cosine_similarity_with_centroid\n",
    "            else:\n",
    "                return np.mean([point.cosine_similarity_with_centroid for point in self.closest_centroid.cluster_points])\n",
    "        else:\n",
    "            raise Exception('Unable to calculate cosine similarity with NoneType: Centroid is undefined')"
   ]
  },
  {
   "cell_type": "code",
   "execution_count": null,
   "metadata": {},
   "outputs": [],
   "source": [
    "class Centroid(Point):\n",
    "    '''\n",
    "    A class used to represent each word in the lexical dictionary as a centroid. \n",
    "    ...\n",
    "\n",
    "    Attributes\n",
    "    ----------\n",
    "    word : str\n",
    "        The word represented by the point\n",
    "\n",
    "    vector : array\n",
    "        The vector representation of the word\n",
    "    \n",
    "    closest_centroid : Centroid\n",
    "        The closest centroid to the point\n",
    "\n",
    "    cosine_similarity_with_centroid : Centroid\n",
    "        The cosine similarity with the point's closest centroid\n",
    "\n",
    "    polarity : Float\n",
    "        The polarity of the point as determined by the polarity of its closest centroid\n",
    "\n",
    "    cluster_points : List(Points)\n",
    "        A list containing the Points assigned to the centroid as a cluster\n",
    "\n",
    "\n",
    "    Methods\n",
    "    ----------\n",
    "    resest_cluster()\n",
    "        Resets all the cluster's points and resets the cluster to an empty list.\n",
    "\n",
    "    add_point_to_cluster(point, similarity)\n",
    "        Adds a Point to the centroid's cluster. Updates the Point's polarity, centroid and cosine similarity with that of and with the Centroid\n",
    "\n",
    "    update_vector_location()\n",
    "        For use in the dynamic clustering algorithm. Updates the vector location to the mean of all its points.\n",
    "\n",
    "    '''\n",
    "    def __init__(self, word, polarity, model):\n",
    "        super().__init__(word, model)\n",
    "        self.polarity = polarity\n",
    "        self.cluster_points = []\n",
    "\n",
    "    def reset_cluster(self):\n",
    "        for point in self.cluster_points:\n",
    "            point.reset_point()\n",
    "        self.cluster_points = []\n",
    "        return True\n",
    "\n",
    "    def add_point_to_cluster(self, point, similarity):\n",
    "        self.cluster_points.append(point)\n",
    "        point.set_polarity(self.polarity)\n",
    "        point.set_centroid(self)\n",
    "        point.set_cosine_similarity_with_centroid(similarity)\n",
    "        return True\n",
    "\n",
    "    def remove_point_from_cluster(self, point):\n",
    "        self.cluster_points.remove(point)\n",
    "        point.reset_point()\n",
    "        return True\n",
    "\n",
    "    def update_vector_location(self):\n",
    "        cluster_mean = sum([point.vector for point in self.cluster_points])/len(self.cluster_points)\n",
    "        self.vector = cluster_mean\n",
    "        return True"
   ]
  },
  {
   "cell_type": "code",
   "execution_count": null,
   "outputs": [],
   "source": [
    "class VectorSpace:\n",
    "    '''\n",
    "    A class used to represent the Vector Space which will contain the points and centroids. \n",
    "    Separate VectorSpaces should be used for the Static and Dynamic Clustering approaches respectively.\n",
    "    ...\n",
    "\n",
    "    Attributes\n",
    "    ----------\n",
    "    points : List(Points)\n",
    "        The list of Points within the vector space.\n",
    "\n",
    "    centroids : List(Centroids)\n",
    "        The list of Centroids within the vector space.\n",
    "\n",
    "    points_look_up_table : Dict(Str:Point)\n",
    "        A look-up table to store the reference Points of each word. Allows for efficient translation of text to Point attributes\n",
    "    \n",
    "    centroids_look_up_table : Dict(Str:Point)\n",
    "        A look-up table to store the reference Centroid of each word. Allows for efficient translation of text to Centroid attributes\n",
    "\n",
    "    word2vec_model : Model\n",
    "        The word embedding model used to embed words into the VectorSpace. ie. GloVe-Twitter-25\n",
    "\n",
    "    lexicon : Dict(Str:Float)\n",
    "        The sentiment lexical dictionary used for the VectorSpace. \n",
    "\n",
    "    Methods\n",
    "    ----------\n",
    "    inject_point(point)\n",
    "        Injects a point into the vector space and updates the Points look-up table.\n",
    "\n",
    "    inject_centroid(centroid)\n",
    "        Injects a centroid into the vector space and updates the Centroids look-up table\n",
    "\n",
    "    tweet_to_vector_space(tweet, model)\n",
    "        Converts a tweet, aka document, of words into their respective points and injects the points into the vector space. \n",
    "        The model is the embedding model used to tokenise the text.\n",
    "        If the model does not contain the word, the Point is not created.\n",
    "\n",
    "    load_lexicon(lexical analyser)\n",
    "        Loads the lexical dictionary from the lexical analyser and stores within the VectorSpace object.\n",
    "\n",
    "    lexicon_to_vector_space(word, polarity, model)\n",
    "        Converts a word from the sentiment lexical dictionary into a Centroid and injects it into the vector space.\n",
    "        The model is the embedding model used to tokenise the text.\n",
    "        If the model does not contain the word, the Centroid is not created.\n",
    "\n",
    "    init_centroids()\n",
    "        Initialises centroids into the VectorSpace based in the Lexical Dictionary\n",
    "\n",
    "    calculate_cosine_similarity(point1, point2)\n",
    "        Calculates the cosine similarity between 2 Points. Utilises Numpy matrix operations for increased efficiency.\n",
    "\n",
    "    get_most_similar_centroid(point)\n",
    "        Locates the closest Centroid to the Point from all the Centroids within the VectorSpace based on Cosine Similarity. \n",
    "        Returns the closest centroid and the Cosine Similarity between the point and the Centroid.\n",
    "\n",
    "    assign_static_clusters()\n",
    "        Executes the static clustering algorithm based on the paper \"Improvement of Sentiment Analysis based on clustring of Word2Vec\".\n",
    "\n",
    "    assign_dynamic_clusters()\n",
    "        Executes the proposed dynamic clustering algorithm.\n",
    "\n",
    "    get_similarity_score_of_unseen_word(word)\n",
    "        For an unseen word in the testing data, return its closest centroid and cosine similarity score.\n",
    "\n",
    "    translate_text_to_similarity(document, static=False, dynamic=False)\n",
    "        Translates a document of words into their respective similarity scores. \n",
    "        If an unseen word is encountered from testing data, get_similarity_score_of_unseen_word will be executed.\n",
    "        If a Centroid has negative polarity, the similarity will be transformed by a multiplicative factor of -1\n",
    "        If static, the mean similarity scores of all the points within a certain centroid will be returned for all these Points.\n",
    "        If dynamic, the raw similary will be returned\n",
    "\n",
    "    fit(Series, static=False, dynamic=False)\n",
    "        Main client facing function. This operation will train the VectorSpace with the series of tweets.\n",
    "\n",
    "    transform(Series, static=False, dynamic=False)\n",
    "        Transforms words within a series of String to their respective similarity scores. \n",
    "\n",
    "    plot_points(n)\n",
    "        Plots the first n unique Points and Centroids on a 2-dimensional plane.\n",
    "\n",
    "    '''\n",
    "    def __init__(self, word2vec_model, lexicon_dictionary):\n",
    "        self.points = []\n",
    "        self.centroids = []\n",
    "        self.points_look_up_table = {}\n",
    "        self.centroids_look_up_table = {}\n",
    "        self.word2vec_model = word2vec_model\n",
    "        self.load_lexicon(lexicon_dictionary)\n",
    "        self.init_centroids()\n",
    "        print(f\"SUCCESS: VectorSpace initialised with {len(self.centroids)} centroids\")\n",
    "\n",
    "    def inject_point(self, point):\n",
    "        self.points.append(point)\n",
    "        self.points_look_up_table[point.word] = point\n",
    "        return True\n",
    "    \n",
    "    def inject_centroid(self, centroid):\n",
    "        self.centroids.append(centroid)\n",
    "        self.centroids_look_up_table[centroid.word] = centroid\n",
    "        return True\n",
    "\n",
    "    def tweet_to_vector_space(self, tweet, word2vec_model, verbose=False):\n",
    "        for word in tweet.split():\n",
    "            if word2vec_model.__contains__(word):\n",
    "                self.inject_point(Point(word, self.word2vec_model))\n",
    "            else:\n",
    "                if verbose:\n",
    "                    print(f\"INFO: Model does not contain {word}\")\n",
    "        return True\n",
    "\n",
    "    def load_lexicon(self, lexicon_dictionary):\n",
    "        self.lexicons = lexicon_dictionary.lexicon\n",
    "        return True\n",
    "\n",
    "    def lexicon_to_vector_space(self, word, polarity, model):\n",
    "        if model.__contains__(word):\n",
    "            self.inject_centroid(Centroid(word, polarity, model))\n",
    "        return True\n",
    "\n",
    "    def init_centroids(self):\n",
    "        for word, polarity in self.lexicons.items():\n",
    "            self.lexicon_to_vector_space(word, polarity, self.word2vec_model)\n",
    "        return True\n",
    "\n",
    "    def calculate_cosine_similarity(self, point1, point2):\n",
    "        return np.dot(point1.vector, point2.vector)/(np.linalg.norm(point1.vector)* np.linalg.norm(point2.vector))\n",
    "\n",
    "    def get_most_similar_centroid(self, point):\n",
    "        most_similar_centroid = None\n",
    "        max_similarity = 0\n",
    "\n",
    "        for centroid in self.centroids:\n",
    "            similarity = self.calculate_cosine_similarity(point, centroid)\n",
    "            if similarity > max_similarity:\n",
    "                most_similar_centroid = centroid\n",
    "                max_similarity = similarity\n",
    "\n",
    "        return most_similar_centroid, max_similarity\n",
    "\n",
    "    def assign_static_clusters(self):\n",
    "        # Implement static cluster algorithm\n",
    "        for point in tqdm(self.points, desc=\"Assigning Points to Clusters...\"):\n",
    "            most_similar_centroid, max_similarity = self.get_most_similar_centroid(point)\n",
    "            most_similar_centroid.add_point_to_cluster(point, max_similarity)\n",
    "        return True\n",
    "\n",
    "    def assign_dynamic_clusters(self, max_iterations = 20):\n",
    "        # Implement dynamic cluster algorithm\n",
    "        # not a single point changes cluster in 1 iteration, or can try setting a max iteration\n",
    "        centroid_change_flag = True\n",
    "        counter = 1\n",
    "        self.assign_static_clusters()\n",
    "        while centroid_change_flag and counter <= max_iterations:\n",
    "            print(f\"INFO: Iteration {counter}\")\n",
    "            centroid_change_flag = False\n",
    "            \n",
    "            for centroid in tqdm(self.centroids, desc=\"Updating Centroid Locations\"):\n",
    "                if len(centroid.cluster_points) > 0:\n",
    "                    centroid.update_vector_location()\n",
    "            for point in tqdm(self.points, desc=\"Reassigning Points\"):\n",
    "                most_similar_centroid, max_similarity = self.get_most_similar_centroid(point)\n",
    "                if most_similar_centroid is not point.closest_centroid:\n",
    "                    # print(\"reassigned\")\n",
    "                    centroid_change_flag = True\n",
    "                    point.closest_centroid.remove_point_from_cluster(point)\n",
    "                    most_similar_centroid.add_point_to_cluster(point, max_similarity)\n",
    "            counter += 1\n",
    "        return True\n",
    "\n",
    "    def get_similarity_score_of_unseen_word(self, word):\n",
    "        most_similar_centroid, max_similarity = self.get_most_similar_centroid(Point(word, self.word2vec_model))\n",
    "        # Consider mean values for centroids with points inside\n",
    "        return most_similar_centroid, max_similarity\n",
    "\n",
    "    def translate_text_to_similarity(self, document, static=False, dynamic=False):\n",
    "        output = []\n",
    "        for word in document.split():\n",
    "            if self.word2vec_model.__contains__(word):\n",
    "                if word not in self.points_look_up_table: # unseen test vocabulary\n",
    "                    most_similar_centroid, similarity_score = self.get_similarity_score_of_unseen_word(word)\n",
    "                    # similarity_score *= most_similar_centroid.polarity\n",
    "                    if most_similar_centroid.polarity < 0:\n",
    "                        similarity_score = -1 * similarity_score\n",
    "                else:\n",
    "                    similarity_score = self.points_look_up_table[word].get_cosine_similarity_with_centroid(mean_distance=static)\n",
    "                    # similarity_score *= self.points_look_up_table[word].polarity\n",
    "                    if self.points_look_up_table[word].polarity < 0:\n",
    "                        similarity_score =  -1 * similarity_score\n",
    "                output.append(similarity_score)\n",
    "        output += [0] * (MAX_TWEET_LENGTH - len(output))         \n",
    "\n",
    "        return np.array(output)\n",
    "\n",
    "    def fit(self, X_train, static=False, dynamic=False, max_iterations = 20):\n",
    "        if not static and not dynamic:\n",
    "            raise Exception(\"Please specify static or dynamic fitting\")\n",
    "        \n",
    "        X_train.apply(lambda x: self.tweet_to_vector_space(x, word2vec_model=self.word2vec_model))\n",
    "       \n",
    "        if static:\n",
    "            self.assign_static_clusters()\n",
    "        elif dynamic:\n",
    "            self.assign_dynamic_clusters(max_iterations = 20)\n",
    "\n",
    "        return True\n",
    "\n",
    "    def transform(self, X, static=False, dynamic=False):\n",
    "        if not static and not dynamic:\n",
    "            raise Exception(\"Please specify static or dynamic transformation\")\n",
    "        X_transformed = X.apply(lambda x: self.translate_text_to_similarity(x, static=static, dynamic=dynamic))\n",
    "        return np.array(X_transformed.tolist())\n",
    "\n",
    "\n",
    "    def plot_points(self, n):\n",
    "        words = []\n",
    "        vectors = []\n",
    "        for point in self.points:\n",
    "            if point.word not in words:\n",
    "                words.append(point.word)\n",
    "                vectors.append(point.vector)\n",
    "\n",
    "        words = np.asarray(words)[:n]\n",
    "        vectors = np.array(vectors)[:n]\n",
    "        centroids = np.array([c.vector for c in self.centroids])\n",
    "        \n",
    "        tsne = TSNE(n_components=2)\n",
    "        X_tsne = tsne.fit_transform(vectors)\n",
    "        plt.figure(figsize=(20,20))\n",
    "        plt.scatter(X_tsne[:, 0], X_tsne[:, 1])\n",
    "        for label, x, y in zip(words, X_tsne[:, 0], X_tsne[:, 1]):\n",
    "            plt.annotate(label, xy=(x, y), xytext=(0, 0), textcoords=\"offset points\")\n",
    "        plt.show()\n"
   ],
   "metadata": {
    "collapsed": false
   }
  },
  {
   "cell_type": "markdown",
   "metadata": {},
   "source": [
    "### Training the Static Vector Space"
   ]
  },
  {
   "cell_type": "markdown",
   "metadata": {},
   "source": [
    "#### Injecting Training Set into Vector Space\n",
    "\n",
    "In this section, we will initialise a VectorSpace, and populate it with words from the training Tweets. At the same time, we will maintain a hashtable to keep track of the corresponding point for each word that we can translate the points back to words in the form of the respective maximum similarity value in O(1) time."
   ]
  },
  {
   "cell_type": "code",
   "execution_count": null,
   "metadata": {},
   "outputs": [],
   "source": [
    "X_train.head()"
   ]
  },
  {
   "cell_type": "code",
   "execution_count": null,
   "metadata": {},
   "outputs": [],
   "source": [
    "analyzer = SentimentIntensityAnalyzer()\n",
    "word2vec_model = gensim_api.load('glove-twitter-25')"
   ]
  },
  {
   "cell_type": "markdown",
   "metadata": {},
   "source": [
    "### Initialising and Training Static and Dynamic VectorSpaces"
   ]
  },
  {
   "cell_type": "code",
   "execution_count": null,
   "metadata": {},
   "outputs": [],
   "source": [
    "vector_space_static = VectorSpace(word2vec_model, analyzer)\n",
    "vector_space_static.fit(X_train, static=True)"
   ]
  },
  {
   "cell_type": "code",
   "execution_count": null,
   "metadata": {},
   "outputs": [],
   "source": [
    "vector_space_dynamic = VectorSpace(word2vec_model, analyzer)\n",
    "vector_space_dynamic.fit(X_train, dynamic=True, max_iterations = 20)"
   ]
  },
  {
   "cell_type": "code",
   "execution_count": null,
   "metadata": {},
   "outputs": [],
   "source": [
    "# pickle trained vector spaces\n",
    "\n",
    "import pickle\n",
    "\n",
    "container = {\n",
    "    \"static_VectorSpace\": vector_space_static,\n",
    "    \"dynamic_VectorSpace\": vector_space_dynamic,\n",
    "    \"lexical_dictionary\": analyzer,\n",
    "    \"word2vec_model\": word2vec_model,\n",
    "}\n",
    "\n",
    "with open('container.pickle', 'wb') as f:\n",
    "    # Pickle the 'data' dictionary using the highest protocol available.\n",
    "    pickle.dump(container, f, pickle.HIGHEST_PROTOCOL)"
   ]
  },
  {
   "cell_type": "code",
   "execution_count": null,
   "metadata": {},
   "outputs": [],
   "source": [
    "with open('container.pickle', 'rb') as f:\n",
    "    # The protocol version used is detected automatically, so we do not\n",
    "    # have to specify it.\n",
    "    container = pickle.load(f)\n",
    "\n",
    "\n",
    "vector_space_static = container[\"static_VectorSpace\"]\n",
    "vector_space_dynamic = container[\"dynamic_VectorSpace\"]\n",
    "analyzer = container[\"lexical_dictionary\"]\n",
    "word2vec_model = container[\"word2vec_model\"]"
   ]
  },
  {
   "cell_type": "markdown",
   "metadata": {},
   "source": [
    "### Transforming Training and Test Sets"
   ]
  },
  {
   "cell_type": "code",
   "execution_count": null,
   "metadata": {},
   "outputs": [],
   "source": [
    "X_train_static_transformed = vector_space_static.transform(X_train, static=True)\n",
    "X_test_static_transformed = vector_space_static.transform(X_test, static=True)"
   ]
  },
  {
   "cell_type": "code",
   "execution_count": null,
   "metadata": {},
   "outputs": [],
   "source": [
    "X_train_dynamic_transformed = vector_space_dynamic.transform(X_train, dynamic=True)\n",
    "X_test_dynamic_transformed = vector_space_dynamic.transform(X_test, dynamic=True)"
   ]
  },
  {
   "cell_type": "markdown",
   "metadata": {},
   "source": [
    "### Supervised Training \n",
    "\n",
    "In this section, we will train two supervised models: PassiveAggressive Classifier and a baseline Logistic Regression"
   ]
  },
  {
   "cell_type": "code",
   "execution_count": 162,
   "metadata": {},
   "outputs": [],
   "source": [
    "def get_F1(precision, recall):\n",
    "    if precision == recall == 0:\n",
    "        return 0\n",
    "    return 2* (precision*recall)/(precision+recall)\n",
    "\n",
    "def model_pipeline(model, X_train_transformed, y_train, X_test_transformed, y_test):\n",
    "    model.fit(X_train_transformed, y_train)\n",
    "    pred = model.predict(X_test_transformed)\n",
    "\n",
    "    loss = log_loss(y_test, pred)\n",
    "    accuracy = accuracy_score(y_test, pred)\n",
    "    \n",
    "    precision = precision_score(y_test, pred)\n",
    "    recall = recall_score(y_test, pred)\n",
    "    auc = roc_auc_score(y_test, pred)\n",
    "    F1 = get_F1(precision,recall)\n",
    "    results = {\n",
    "        \"Loss\": loss,\n",
    "        \"Accuracy\": accuracy,\n",
    "        \"Precision\": precision,\n",
    "        \"Recall\": recall,\n",
    "        \"AUC\": auc,\n",
    "        \"F1 Score\": F1\n",
    "    }\n",
    "    # print(results)\n",
    "    return results\n"
   ]
  },
  {
   "cell_type": "code",
   "execution_count": null,
   "metadata": {},
   "outputs": [],
   "source": [
    "pac_static_model = PassiveAggressiveClassifier(C = 0.5, random_state = RANDOM_STATE)\n",
    "\n",
    "pac_static_results = model_pipeline(pac_static_model, X_train_static_transformed, y_train, X_test_static_transformed, y_test)\n",
    "pa_static_results = pd.DataFrame(pac_static_results, index=[\"PA_static\"])"
   ]
  },
  {
   "cell_type": "code",
   "execution_count": null,
   "metadata": {},
   "outputs": [],
   "source": [
    "pac_dynamic_model = PassiveAggressiveClassifier(C = 0.5, random_state = RANDOM_STATE)\n",
    "\n",
    "pac_dynamic_results = model_pipeline(pac_dynamic_model, X_train_dynamic_transformed, y_train, X_test_dynamic_transformed, y_test)\n",
    "pa_dynamic_results = pd.DataFrame(pac_dynamic_results, index=[\"PA_dynamic\"])"
   ]
  },
  {
   "cell_type": "code",
   "execution_count": null,
   "metadata": {},
   "outputs": [],
   "source": [
    "logit_static_model = LogisticRegression(random_state=RANDOM_STATE) \n",
    "\n",
    "logit_static_results = model_pipeline(logit_static_model, X_train_static_transformed, y_train, X_test_static_transformed, y_test)\n",
    "logit_static_results = pd.DataFrame(logit_static_results, index=[\"Logit_static\"])"
   ]
  },
  {
   "cell_type": "code",
   "execution_count": null,
   "metadata": {},
   "outputs": [],
   "source": [
    "logit_dynamic_model = LogisticRegression(random_state=RANDOM_STATE) \n",
    "\n",
    "logit_dynamic_results = model_pipeline(logit_dynamic_model, X_train_dynamic_transformed, y_train, X_test_dynamic_transformed, y_test)\n",
    "logit_dynamic_results = pd.DataFrame(logit_dynamic_results, index=[\"Logit_dynamic\"])"
   ]
  },
  {
   "cell_type": "code",
   "execution_count": null,
   "metadata": {},
   "outputs": [],
   "source": [
    "from sklearn import svm\n",
    "\n",
    "svm_static_model = svm.SVC()\n",
    "svm_static_results = model_pipeline(svm_static_model, X_train_static_transformed, y_train, X_test_static_transformed, y_test)\n",
    "svm_static_results = pd.DataFrame(svm_static_results, index=[\"svm_static\"])"
   ]
  },
  {
   "cell_type": "code",
   "execution_count": null,
   "metadata": {},
   "outputs": [],
   "source": [
    "svm_dynamic_model = svm.SVC()\n",
    "svm_dynamic_results = model_pipeline(svm_dynamic_model, X_train_dynamic_transformed, y_train, X_test_dynamic_transformed, y_test)\n",
    "svm_dynamic_results = pd.DataFrame(svm_dynamic_results, index=[\"svm_dynamic\"])"
   ]
  },
  {
   "cell_type": "code",
   "execution_count": null,
   "metadata": {},
   "outputs": [],
   "source": [
    "import lightgbm as lgb\n",
    "\n",
    "lgbm_static_model = lgb.LGBMClassifier(learning_rate=0.09,max_depth=-5,random_state=RANDOM_STATE)\n",
    "lgbm_static_results = model_pipeline(lgbm_static_model, X_train_static_transformed, y_train, X_test_static_transformed, y_test)\n",
    "lgbm_static_results = pd.DataFrame(lgbm_static_results, index=[\"lgbm_static\"])"
   ]
  },
  {
   "cell_type": "code",
   "execution_count": null,
   "metadata": {},
   "outputs": [],
   "source": [
    "lgbm_dynamic_model = lgb.LGBMClassifier(learning_rate=0.09,max_depth=-5,random_state=RANDOM_STATE)\n",
    "lgbm_dynamic_results = model_pipeline(lgbm_dynamic_model, X_train_dynamic_transformed, y_train, X_test_dynamic_transformed, y_test)\n",
    "lgbm_dynamic_results = pd.DataFrame(lgbm_dynamic_results, index=[\"lgbm_dynamic\"])"
   ]
  },
  {
   "cell_type": "code",
   "execution_count": null,
   "metadata": {},
   "outputs": [],
   "source": [
    "combined_results = pd.concat([pa_static_results, pa_dynamic_results, logit_static_results,  logit_dynamic_results,svm_static_results,svm_dynamic_results, lgbm_static_results, lgbm_dynamic_results])\n",
    "combined_results"
   ]
  },
  {
   "cell_type": "markdown",
   "source": [
    "## Baseline Trial"
   ],
   "metadata": {
    "collapsed": false
   }
  },
  {
   "cell_type": "code",
   "execution_count": 226,
   "outputs": [],
   "source": [
    "tweets = pd.read_csv('tweets.csv', index_col=0)"
   ],
   "metadata": {
    "collapsed": false
   }
  },
  {
   "cell_type": "code",
   "execution_count": 227,
   "outputs": [
    {
     "data": {
      "text/plain": "       target                                       cleaned_text  \\\n0           0                          oh u order thats horrible   \n1           0  great hard training weekend couple days rest l...   \n2           0                                 right work go free   \n3           0                                       craving food   \n4           0           jean concert tomorrow got ta work though   \n...       ...                                                ...   \n19995       1             arms morning baby face boy guitar hero   \n19996       1                  sweet mother extend royal welcome   \n19997       1             wouldnt mind watching derby mint julep   \n19998       1      shiny nice like shiny hate vista mean passion   \n19999       1                                       lake outside   \n\n                                          tokenized_text  \n0      [[ 3.4172e-01 -1.7305e-01  2.3311e-01  5.7375e...  \n1      [[-8.4229e-01  3.6512e-01 -3.8841e-01 -4.6118e...  \n2      [[-4.3876e-01  9.5692e-02  3.0075e-03 -1.3195e...  \n3      [[-1.2275    0.61425   0.23204   0.4787   -0.5...  \n4      [[-7.0756e-01 -1.2247e+00  8.7766e-02  2.7264e...  \n...                                                  ...  \n19995  [[-1.4197   -0.59392   0.034198  0.7004    0.1...  \n19996  [[-1.0864   -0.61674   0.33613   0.43232  -0.2...  \n19997  [[ 5.7749e-02  1.3264e+00 -1.6871e-02 -5.5858e...  \n19998  [[-9.4931e-01 -5.5718e-01  1.3540e-01 -1.2416e...  \n19999  [[-2.4857   -0.82327   0.31095  -0.42148  -1.6...  \n\n[19479 rows x 3 columns]",
      "text/html": "<div>\n<style scoped>\n    .dataframe tbody tr th:only-of-type {\n        vertical-align: middle;\n    }\n\n    .dataframe tbody tr th {\n        vertical-align: top;\n    }\n\n    .dataframe thead th {\n        text-align: right;\n    }\n</style>\n<table border=\"1\" class=\"dataframe\">\n  <thead>\n    <tr style=\"text-align: right;\">\n      <th></th>\n      <th>target</th>\n      <th>cleaned_text</th>\n      <th>tokenized_text</th>\n    </tr>\n  </thead>\n  <tbody>\n    <tr>\n      <th>0</th>\n      <td>0</td>\n      <td>oh u order thats horrible</td>\n      <td>[[ 3.4172e-01 -1.7305e-01  2.3311e-01  5.7375e...</td>\n    </tr>\n    <tr>\n      <th>1</th>\n      <td>0</td>\n      <td>great hard training weekend couple days rest l...</td>\n      <td>[[-8.4229e-01  3.6512e-01 -3.8841e-01 -4.6118e...</td>\n    </tr>\n    <tr>\n      <th>2</th>\n      <td>0</td>\n      <td>right work go free</td>\n      <td>[[-4.3876e-01  9.5692e-02  3.0075e-03 -1.3195e...</td>\n    </tr>\n    <tr>\n      <th>3</th>\n      <td>0</td>\n      <td>craving food</td>\n      <td>[[-1.2275    0.61425   0.23204   0.4787   -0.5...</td>\n    </tr>\n    <tr>\n      <th>4</th>\n      <td>0</td>\n      <td>jean concert tomorrow got ta work though</td>\n      <td>[[-7.0756e-01 -1.2247e+00  8.7766e-02  2.7264e...</td>\n    </tr>\n    <tr>\n      <th>...</th>\n      <td>...</td>\n      <td>...</td>\n      <td>...</td>\n    </tr>\n    <tr>\n      <th>19995</th>\n      <td>1</td>\n      <td>arms morning baby face boy guitar hero</td>\n      <td>[[-1.4197   -0.59392   0.034198  0.7004    0.1...</td>\n    </tr>\n    <tr>\n      <th>19996</th>\n      <td>1</td>\n      <td>sweet mother extend royal welcome</td>\n      <td>[[-1.0864   -0.61674   0.33613   0.43232  -0.2...</td>\n    </tr>\n    <tr>\n      <th>19997</th>\n      <td>1</td>\n      <td>wouldnt mind watching derby mint julep</td>\n      <td>[[ 5.7749e-02  1.3264e+00 -1.6871e-02 -5.5858e...</td>\n    </tr>\n    <tr>\n      <th>19998</th>\n      <td>1</td>\n      <td>shiny nice like shiny hate vista mean passion</td>\n      <td>[[-9.4931e-01 -5.5718e-01  1.3540e-01 -1.2416e...</td>\n    </tr>\n    <tr>\n      <th>19999</th>\n      <td>1</td>\n      <td>lake outside</td>\n      <td>[[-2.4857   -0.82327   0.31095  -0.42148  -1.6...</td>\n    </tr>\n  </tbody>\n</table>\n<p>19479 rows × 3 columns</p>\n</div>"
     },
     "execution_count": 227,
     "metadata": {},
     "output_type": "execute_result"
    }
   ],
   "source": [
    "tweets"
   ],
   "metadata": {
    "collapsed": false
   }
  },
  {
   "cell_type": "code",
   "execution_count": 200,
   "outputs": [],
   "source": [
    "model = api.load('glove-twitter-25')"
   ],
   "metadata": {
    "collapsed": false
   }
  },
  {
   "cell_type": "code",
   "execution_count": 228,
   "outputs": [
    {
     "data": {
      "text/plain": "       target                                       cleaned_text  \\\n0           0                          oh u order thats horrible   \n1           0  great hard training weekend couple days rest l...   \n2           0                                 right work go free   \n3           0                                       craving food   \n4           0           jean concert tomorrow got ta work though   \n...       ...                                                ...   \n19995       1             arms morning baby face boy guitar hero   \n19996       1                  sweet mother extend royal welcome   \n19997       1             wouldnt mind watching derby mint julep   \n19998       1      shiny nice like shiny hate vista mean passion   \n19999       1                                       lake outside   \n\n                                          tokenized_text  \n0      [[0.34172, -0.17305, 0.23311, 0.057375, -0.761...  \n1      [[-0.84229, 0.36512, -0.38841, -0.46118, 0.243...  \n2      [[-0.43876, 0.095692, 0.0030075, -0.13195, -0....  \n3      [[-1.2275, 0.61425, 0.23204, 0.4787, -0.55766,...  \n4      [[-0.70756, -1.2247, 0.087766, 0.27264, -0.412...  \n...                                                  ...  \n19995  [[-1.4197, -0.59392, 0.034198, 0.7004, 0.13279...  \n19996  [[-1.0864, -0.61674, 0.33613, 0.43232, -0.2094...  \n19997  [[0.057749, 1.3264, -0.016871, -0.55858, -0.92...  \n19998  [[-0.94931, -0.55718, 0.1354, -0.12416, 0.9493...  \n19999  [[-2.4857, -0.82327, 0.31095, -0.42148, -1.655...  \n\n[19479 rows x 3 columns]",
      "text/html": "<div>\n<style scoped>\n    .dataframe tbody tr th:only-of-type {\n        vertical-align: middle;\n    }\n\n    .dataframe tbody tr th {\n        vertical-align: top;\n    }\n\n    .dataframe thead th {\n        text-align: right;\n    }\n</style>\n<table border=\"1\" class=\"dataframe\">\n  <thead>\n    <tr style=\"text-align: right;\">\n      <th></th>\n      <th>target</th>\n      <th>cleaned_text</th>\n      <th>tokenized_text</th>\n    </tr>\n  </thead>\n  <tbody>\n    <tr>\n      <th>0</th>\n      <td>0</td>\n      <td>oh u order thats horrible</td>\n      <td>[[0.34172, -0.17305, 0.23311, 0.057375, -0.761...</td>\n    </tr>\n    <tr>\n      <th>1</th>\n      <td>0</td>\n      <td>great hard training weekend couple days rest l...</td>\n      <td>[[-0.84229, 0.36512, -0.38841, -0.46118, 0.243...</td>\n    </tr>\n    <tr>\n      <th>2</th>\n      <td>0</td>\n      <td>right work go free</td>\n      <td>[[-0.43876, 0.095692, 0.0030075, -0.13195, -0....</td>\n    </tr>\n    <tr>\n      <th>3</th>\n      <td>0</td>\n      <td>craving food</td>\n      <td>[[-1.2275, 0.61425, 0.23204, 0.4787, -0.55766,...</td>\n    </tr>\n    <tr>\n      <th>4</th>\n      <td>0</td>\n      <td>jean concert tomorrow got ta work though</td>\n      <td>[[-0.70756, -1.2247, 0.087766, 0.27264, -0.412...</td>\n    </tr>\n    <tr>\n      <th>...</th>\n      <td>...</td>\n      <td>...</td>\n      <td>...</td>\n    </tr>\n    <tr>\n      <th>19995</th>\n      <td>1</td>\n      <td>arms morning baby face boy guitar hero</td>\n      <td>[[-1.4197, -0.59392, 0.034198, 0.7004, 0.13279...</td>\n    </tr>\n    <tr>\n      <th>19996</th>\n      <td>1</td>\n      <td>sweet mother extend royal welcome</td>\n      <td>[[-1.0864, -0.61674, 0.33613, 0.43232, -0.2094...</td>\n    </tr>\n    <tr>\n      <th>19997</th>\n      <td>1</td>\n      <td>wouldnt mind watching derby mint julep</td>\n      <td>[[0.057749, 1.3264, -0.016871, -0.55858, -0.92...</td>\n    </tr>\n    <tr>\n      <th>19998</th>\n      <td>1</td>\n      <td>shiny nice like shiny hate vista mean passion</td>\n      <td>[[-0.94931, -0.55718, 0.1354, -0.12416, 0.9493...</td>\n    </tr>\n    <tr>\n      <th>19999</th>\n      <td>1</td>\n      <td>lake outside</td>\n      <td>[[-2.4857, -0.82327, 0.31095, -0.42148, -1.655...</td>\n    </tr>\n  </tbody>\n</table>\n<p>19479 rows × 3 columns</p>\n</div>"
     },
     "execution_count": 228,
     "metadata": {},
     "output_type": "execute_result"
    }
   ],
   "source": [
    "# takes in a tweet and outputs a list of word embeddings for each word\n",
    "def get_embeddings(text):\n",
    "    return np.array([model[w] for w in text.split() if model.__contains__(w)])\n",
    "\n",
    "#When load in the csv file the tokenized_text\n",
    "tweets['tokenized_text'] = tweets['cleaned_text'].apply(get_embeddings)\n",
    "tweets"
   ],
   "metadata": {
    "collapsed": false
   }
  },
  {
   "cell_type": "code",
   "execution_count": 229,
   "outputs": [
    {
     "data": {
      "text/plain": "                                   tokenized_text_padded  target\n0      [[0.34172001481056213, -0.17305000126361847, 0...       0\n1      [[-0.8422899842262268, 0.365119993686676, -0.3...       0\n2      [[-0.43876001238822937, 0.09569200128316879, 0...       0\n3      [[-1.2274999618530273, 0.6142500042915344, 0.2...       0\n4      [[-0.7075600028038025, -1.2246999740600586, 0....       0\n...                                                  ...     ...\n19472  [[-1.419700026512146, -0.5939199924468994, 0.0...       1\n19473  [[-1.086400032043457, -0.6167399883270264, 0.3...       1\n19474  [[0.05774899944663048, 1.3264000415802002, -0....       1\n19475  [[-0.9493100047111511, -0.5571799874305725, 0....       1\n19476  [[-2.4856998920440674, -0.8232700228691101, 0....       1\n\n[19477 rows x 2 columns]",
      "text/html": "<div>\n<style scoped>\n    .dataframe tbody tr th:only-of-type {\n        vertical-align: middle;\n    }\n\n    .dataframe tbody tr th {\n        vertical-align: top;\n    }\n\n    .dataframe thead th {\n        text-align: right;\n    }\n</style>\n<table border=\"1\" class=\"dataframe\">\n  <thead>\n    <tr style=\"text-align: right;\">\n      <th></th>\n      <th>tokenized_text_padded</th>\n      <th>target</th>\n    </tr>\n  </thead>\n  <tbody>\n    <tr>\n      <th>0</th>\n      <td>[[0.34172001481056213, -0.17305000126361847, 0...</td>\n      <td>0</td>\n    </tr>\n    <tr>\n      <th>1</th>\n      <td>[[-0.8422899842262268, 0.365119993686676, -0.3...</td>\n      <td>0</td>\n    </tr>\n    <tr>\n      <th>2</th>\n      <td>[[-0.43876001238822937, 0.09569200128316879, 0...</td>\n      <td>0</td>\n    </tr>\n    <tr>\n      <th>3</th>\n      <td>[[-1.2274999618530273, 0.6142500042915344, 0.2...</td>\n      <td>0</td>\n    </tr>\n    <tr>\n      <th>4</th>\n      <td>[[-0.7075600028038025, -1.2246999740600586, 0....</td>\n      <td>0</td>\n    </tr>\n    <tr>\n      <th>...</th>\n      <td>...</td>\n      <td>...</td>\n    </tr>\n    <tr>\n      <th>19472</th>\n      <td>[[-1.419700026512146, -0.5939199924468994, 0.0...</td>\n      <td>1</td>\n    </tr>\n    <tr>\n      <th>19473</th>\n      <td>[[-1.086400032043457, -0.6167399883270264, 0.3...</td>\n      <td>1</td>\n    </tr>\n    <tr>\n      <th>19474</th>\n      <td>[[0.05774899944663048, 1.3264000415802002, -0....</td>\n      <td>1</td>\n    </tr>\n    <tr>\n      <th>19475</th>\n      <td>[[-0.9493100047111511, -0.5571799874305725, 0....</td>\n      <td>1</td>\n    </tr>\n    <tr>\n      <th>19476</th>\n      <td>[[-2.4856998920440674, -0.8232700228691101, 0....</td>\n      <td>1</td>\n    </tr>\n  </tbody>\n</table>\n<p>19477 rows × 2 columns</p>\n</div>"
     },
     "execution_count": 229,
     "metadata": {},
     "output_type": "execute_result"
    }
   ],
   "source": [
    "# Get new dataframe 'tweets_padded' which pad all the tokenized text to 280,25 dimensionality matrix\n",
    "\n",
    "tokenized_text_padded = []\n",
    "target_padded = []\n",
    "for i, row in enumerate(tweets.iterrows()):\n",
    "    tokenized_text = row[1][\"tokenized_text\"]\n",
    "    # Remove tweet entries which have tokenized_text of length 0\n",
    "    if len(tokenized_text) == 0:\n",
    "        continue\n",
    "    if len(tokenized_text) < MAX_TWEET_LENGTH:\n",
    "        diff = MAX_TWEET_LENGTH - len(tokenized_text)\n",
    "        padding = np.zeros((diff, 25))\n",
    "        tokenized_text = np.vstack([tokenized_text,padding])\n",
    "    tokenized_text_padded.append(tokenized_text)\n",
    "    target_padded.append(row[1][\"target\"])\n",
    "\n",
    "tweets_padded = pd.DataFrame(list(zip(tokenized_text_padded, target_padded)),\n",
    "               columns =['tokenized_text_padded', 'target'])\n",
    "\n",
    "tweets_padded"
   ],
   "metadata": {
    "collapsed": false
   }
  },
  {
   "cell_type": "code",
   "execution_count": 230,
   "outputs": [
    {
     "data": {
      "text/plain": "                                   tokenized_text_padded  target\n9010   [[-0.9421399831771851, -0.24345000088214874, 0...       0\n18351  [[-0.945360004901886, 0.4271399974822998, 0.29...       1\n2308   [[0.1680700033903122, 0.4830400049686432, 0.03...       0\n3615   [[-1.2555999755859375, -0.5326499938964844, 0....       0\n2830   [[-1.5123000144958496, 0.25731998682022095, 0....       0\n...                                                  ...     ...\n15290  [[0.2600800096988678, 1.1016000509262085, -1.2...       1\n14821  [[-0.3168199956417084, 0.4241099953651428, 0.4...       1\n15841  [[1.3463000059127808, -0.18624000251293182, 0....       1\n1695   [[-0.34365999698638916, 1.263800024986267, 1.1...       0\n11084  [[0.2913700044155121, 0.3611299991607666, 0.44...       1\n\n[15000 rows x 2 columns]",
      "text/html": "<div>\n<style scoped>\n    .dataframe tbody tr th:only-of-type {\n        vertical-align: middle;\n    }\n\n    .dataframe tbody tr th {\n        vertical-align: top;\n    }\n\n    .dataframe thead th {\n        text-align: right;\n    }\n</style>\n<table border=\"1\" class=\"dataframe\">\n  <thead>\n    <tr style=\"text-align: right;\">\n      <th></th>\n      <th>tokenized_text_padded</th>\n      <th>target</th>\n    </tr>\n  </thead>\n  <tbody>\n    <tr>\n      <th>9010</th>\n      <td>[[-0.9421399831771851, -0.24345000088214874, 0...</td>\n      <td>0</td>\n    </tr>\n    <tr>\n      <th>18351</th>\n      <td>[[-0.945360004901886, 0.4271399974822998, 0.29...</td>\n      <td>1</td>\n    </tr>\n    <tr>\n      <th>2308</th>\n      <td>[[0.1680700033903122, 0.4830400049686432, 0.03...</td>\n      <td>0</td>\n    </tr>\n    <tr>\n      <th>3615</th>\n      <td>[[-1.2555999755859375, -0.5326499938964844, 0....</td>\n      <td>0</td>\n    </tr>\n    <tr>\n      <th>2830</th>\n      <td>[[-1.5123000144958496, 0.25731998682022095, 0....</td>\n      <td>0</td>\n    </tr>\n    <tr>\n      <th>...</th>\n      <td>...</td>\n      <td>...</td>\n    </tr>\n    <tr>\n      <th>15290</th>\n      <td>[[0.2600800096988678, 1.1016000509262085, -1.2...</td>\n      <td>1</td>\n    </tr>\n    <tr>\n      <th>14821</th>\n      <td>[[-0.3168199956417084, 0.4241099953651428, 0.4...</td>\n      <td>1</td>\n    </tr>\n    <tr>\n      <th>15841</th>\n      <td>[[1.3463000059127808, -0.18624000251293182, 0....</td>\n      <td>1</td>\n    </tr>\n    <tr>\n      <th>1695</th>\n      <td>[[-0.34365999698638916, 1.263800024986267, 1.1...</td>\n      <td>0</td>\n    </tr>\n    <tr>\n      <th>11084</th>\n      <td>[[0.2913700044155121, 0.3611299991607666, 0.44...</td>\n      <td>1</td>\n    </tr>\n  </tbody>\n</table>\n<p>15000 rows × 2 columns</p>\n</div>"
     },
     "execution_count": 230,
     "metadata": {},
     "output_type": "execute_result"
    }
   ],
   "source": [
    "tweets_sampled = tweets_padded.sample(15000, random_state=RANDOM_STATE)\n",
    "tweets_sampled"
   ],
   "metadata": {
    "collapsed": false
   }
  },
  {
   "cell_type": "code",
   "execution_count": 235,
   "outputs": [
    {
     "data": {
      "text/plain": "                                   tokenized_text_padded  target\n9010   [-0.9421399831771851, -0.24345000088214874, 0....       0\n18351  [-0.945360004901886, 0.4271399974822998, 0.296...       1\n2308   [0.1680700033903122, 0.4830400049686432, 0.031...       0\n3615   [-1.2555999755859375, -0.5326499938964844, 0.1...       0\n2830   [-1.5123000144958496, 0.25731998682022095, 0.7...       0\n...                                                  ...     ...\n15290  [0.2600800096988678, 1.1016000509262085, -1.24...       1\n14821  [-0.3168199956417084, 0.4241099953651428, 0.46...       1\n15841  [1.3463000059127808, -0.18624000251293182, 0.2...       1\n1695   [-0.34365999698638916, 1.263800024986267, 1.14...       0\n11084  [0.2913700044155121, 0.3611299991607666, 0.442...       1\n\n[15000 rows x 2 columns]",
      "text/html": "<div>\n<style scoped>\n    .dataframe tbody tr th:only-of-type {\n        vertical-align: middle;\n    }\n\n    .dataframe tbody tr th {\n        vertical-align: top;\n    }\n\n    .dataframe thead th {\n        text-align: right;\n    }\n</style>\n<table border=\"1\" class=\"dataframe\">\n  <thead>\n    <tr style=\"text-align: right;\">\n      <th></th>\n      <th>tokenized_text_padded</th>\n      <th>target</th>\n    </tr>\n  </thead>\n  <tbody>\n    <tr>\n      <th>9010</th>\n      <td>[-0.9421399831771851, -0.24345000088214874, 0....</td>\n      <td>0</td>\n    </tr>\n    <tr>\n      <th>18351</th>\n      <td>[-0.945360004901886, 0.4271399974822998, 0.296...</td>\n      <td>1</td>\n    </tr>\n    <tr>\n      <th>2308</th>\n      <td>[0.1680700033903122, 0.4830400049686432, 0.031...</td>\n      <td>0</td>\n    </tr>\n    <tr>\n      <th>3615</th>\n      <td>[-1.2555999755859375, -0.5326499938964844, 0.1...</td>\n      <td>0</td>\n    </tr>\n    <tr>\n      <th>2830</th>\n      <td>[-1.5123000144958496, 0.25731998682022095, 0.7...</td>\n      <td>0</td>\n    </tr>\n    <tr>\n      <th>...</th>\n      <td>...</td>\n      <td>...</td>\n    </tr>\n    <tr>\n      <th>15290</th>\n      <td>[0.2600800096988678, 1.1016000509262085, -1.24...</td>\n      <td>1</td>\n    </tr>\n    <tr>\n      <th>14821</th>\n      <td>[-0.3168199956417084, 0.4241099953651428, 0.46...</td>\n      <td>1</td>\n    </tr>\n    <tr>\n      <th>15841</th>\n      <td>[1.3463000059127808, -0.18624000251293182, 0.2...</td>\n      <td>1</td>\n    </tr>\n    <tr>\n      <th>1695</th>\n      <td>[-0.34365999698638916, 1.263800024986267, 1.14...</td>\n      <td>0</td>\n    </tr>\n    <tr>\n      <th>11084</th>\n      <td>[0.2913700044155121, 0.3611299991607666, 0.442...</td>\n      <td>1</td>\n    </tr>\n  </tbody>\n</table>\n<p>15000 rows × 2 columns</p>\n</div>"
     },
     "execution_count": 235,
     "metadata": {},
     "output_type": "execute_result"
    }
   ],
   "source": [
    "# Flatten the padded tokenized text\n",
    "tweets_sampled[\"tokenized_text_padded\"] = tweets_sampled[\"tokenized_text_padded\"].apply(lambda x: np.ndarray.flatten(x))\n",
    "tweets_sampled"
   ],
   "metadata": {
    "collapsed": false
   }
  },
  {
   "cell_type": "code",
   "execution_count": 236,
   "outputs": [],
   "source": [
    "X_baseline = tweets_sampled[\"tokenized_text_padded\"]\n",
    "y_baseline = tweets_sampled[\"target\"]"
   ],
   "metadata": {
    "collapsed": false
   }
  },
  {
   "cell_type": "code",
   "execution_count": 237,
   "outputs": [
    {
     "name": "stdout",
     "output_type": "stream",
     "text": [
      "X_train: 10500 \n",
      "X_val: 2250 \n",
      "X_test: 2250 \n",
      "y_train: 10500 \n",
      "y_val: 2250 \n",
      "y_test: 2250 \n",
      "\n"
     ]
    }
   ],
   "source": [
    "X_train_baseline, X_valtest_baseline, y_train_baseline, y_valtest_baseline = train_test_split(X_baseline, y_baseline, train_size=TRAIN_SIZE, random_state=RANDOM_STATE, shuffle=True)\n",
    "X_val_baseline, X_test_baseline, y_val_baseline, y_test_baseline = train_test_split(X_valtest_baseline, y_valtest_baseline, test_size=(TEST_SIZE)/(TEST_SIZE+VAL_SIZE), random_state=RANDOM_STATE, shuffle=True)\n",
    "\n",
    "print(\n",
    "    f'X_train: {X_train_baseline.shape[0]} \\n'\n",
    "    f'X_val: {X_val_baseline.shape[0]} \\n'\n",
    "    f'X_test: {X_test_baseline.shape[0]} \\n'\n",
    "    f'y_train: {y_train_baseline.shape[0]} \\n'\n",
    "    f'y_val: {y_val_baseline.shape[0]} \\n'\n",
    "    f'y_test: {y_test_baseline.shape[0]} \\n'\n",
    ")"
   ],
   "metadata": {
    "collapsed": false
   }
  },
  {
   "cell_type": "code",
   "execution_count": 240,
   "outputs": [],
   "source": [
    "X_train_baseline = np.array(X_train_baseline.tolist())"
   ],
   "metadata": {
    "collapsed": false
   }
  },
  {
   "cell_type": "code",
   "execution_count": 241,
   "outputs": [],
   "source": [
    "X_test_baseline = np.array(X_test_baseline.tolist())"
   ],
   "metadata": {
    "collapsed": false
   }
  },
  {
   "cell_type": "markdown",
   "source": [
    "Logistic Regression"
   ],
   "metadata": {
    "collapsed": false
   }
  },
  {
   "cell_type": "code",
   "execution_count": 247,
   "outputs": [],
   "source": [
    "logit_baseline_model = LogisticRegression(random_state=RANDOM_STATE, max_iter = 10000)\n",
    "\n",
    "logit_baseline_results = model_pipeline(logit_static_model, X_train_baseline, y_train_baseline, X_test_baseline, y_test_baseline)\n",
    "logit_baseline_results = pd.DataFrame(logit_static_results, index=[\"Logit_baseline\"])"
   ],
   "metadata": {
    "collapsed": false
   }
  },
  {
   "cell_type": "code",
   "execution_count": 248,
   "outputs": [
    {
     "data": {
      "text/plain": "                     Loss  Accuracy  Precision   Recall       AUC  F1 Score\nLogit_baseline  12.771824  0.630222   0.617516  0.63105  0.630244   0.62421",
      "text/html": "<div>\n<style scoped>\n    .dataframe tbody tr th:only-of-type {\n        vertical-align: middle;\n    }\n\n    .dataframe tbody tr th {\n        vertical-align: top;\n    }\n\n    .dataframe thead th {\n        text-align: right;\n    }\n</style>\n<table border=\"1\" class=\"dataframe\">\n  <thead>\n    <tr style=\"text-align: right;\">\n      <th></th>\n      <th>Loss</th>\n      <th>Accuracy</th>\n      <th>Precision</th>\n      <th>Recall</th>\n      <th>AUC</th>\n      <th>F1 Score</th>\n    </tr>\n  </thead>\n  <tbody>\n    <tr>\n      <th>Logit_baseline</th>\n      <td>12.771824</td>\n      <td>0.630222</td>\n      <td>0.617516</td>\n      <td>0.63105</td>\n      <td>0.630244</td>\n      <td>0.62421</td>\n    </tr>\n  </tbody>\n</table>\n</div>"
     },
     "execution_count": 248,
     "metadata": {},
     "output_type": "execute_result"
    }
   ],
   "source": [
    "logit_baseline_results"
   ],
   "metadata": {
    "collapsed": false
   }
  },
  {
   "cell_type": "code",
   "execution_count": 252,
   "outputs": [],
   "source": [
    "from sklearn.linear_model import PassiveAggressiveClassifier\n",
    "\n",
    "pac_baseline_model = PassiveAggressiveClassifier(C = 0.5, random_state = RANDOM_STATE)\n",
    "\n",
    "pac_baseline_results = model_pipeline(pac_static_model, X_train_baseline, y_train_baseline, X_test_baseline, y_test_baseline)\n",
    "pa_baseline_results = pd.DataFrame(pac_static_results, index=[\"PA_baseline\"])"
   ],
   "metadata": {
    "collapsed": false
   }
  },
  {
   "cell_type": "code",
   "execution_count": 253,
   "outputs": [
    {
     "data": {
      "text/plain": "                  Loss  Accuracy  Precision    Recall       AUC  F1 Score\nPA_baseline  15.427542  0.553333   0.533632  0.652055  0.555898   0.58693",
      "text/html": "<div>\n<style scoped>\n    .dataframe tbody tr th:only-of-type {\n        vertical-align: middle;\n    }\n\n    .dataframe tbody tr th {\n        vertical-align: top;\n    }\n\n    .dataframe thead th {\n        text-align: right;\n    }\n</style>\n<table border=\"1\" class=\"dataframe\">\n  <thead>\n    <tr style=\"text-align: right;\">\n      <th></th>\n      <th>Loss</th>\n      <th>Accuracy</th>\n      <th>Precision</th>\n      <th>Recall</th>\n      <th>AUC</th>\n      <th>F1 Score</th>\n    </tr>\n  </thead>\n  <tbody>\n    <tr>\n      <th>PA_baseline</th>\n      <td>15.427542</td>\n      <td>0.553333</td>\n      <td>0.533632</td>\n      <td>0.652055</td>\n      <td>0.555898</td>\n      <td>0.58693</td>\n    </tr>\n  </tbody>\n</table>\n</div>"
     },
     "execution_count": 253,
     "metadata": {},
     "output_type": "execute_result"
    }
   ],
   "source": [
    "pa_baseline_results"
   ],
   "metadata": {
    "collapsed": false
   }
  },
  {
   "cell_type": "code",
   "execution_count": null,
   "outputs": [],
   "source": [
    "from sklearn import svm\n",
    "\n",
    "svm_baseline_model = svm.SVC()\n",
    "svm_baseline_results = model_pipeline(svm_baseline_model, X_train_baseline, y_train_baseline, X_test_baseline, y_test_baseline)\n",
    "svm_baseline_results = pd.DataFrame(svm_static_results, index=[\"svm_baseline\"])"
   ],
   "metadata": {
    "collapsed": false,
    "pycharm": {
     "is_executing": true
    }
   }
  },
  {
   "cell_type": "code",
   "execution_count": null,
   "outputs": [],
   "source": [
    "svm_baseline_results"
   ],
   "metadata": {
    "collapsed": false,
    "pycharm": {
     "is_executing": true
    }
   }
  },
  {
   "cell_type": "code",
   "execution_count": null,
   "outputs": [],
   "source": [
    "import lightgbm as lgb\n",
    "\n",
    "lgbm_baseline_model = lgb.LGBMClassifier(learning_rate=0.09,max_depth=-5,random_state=RANDOM_STATE)\n",
    "lgbm_baseline_results = model_pipeline(lgbm_baseline_model, X_train_baseline, y_train_baseline, X_test_baseline, y_test_baseline)\n",
    "lgbm_baseline_results = pd.DataFrame(lgbm_static_results, index=[\"lgbm_baseline\"])"
   ],
   "metadata": {
    "collapsed": false,
    "pycharm": {
     "is_executing": true
    }
   }
  },
  {
   "cell_type": "code",
   "execution_count": null,
   "outputs": [],
   "source": [
    "lgbm_baseline_results"
   ],
   "metadata": {
    "collapsed": false,
    "pycharm": {
     "is_executing": true
    }
   }
  },
  {
   "cell_type": "code",
   "execution_count": null,
   "outputs": [],
   "source": [],
   "metadata": {
    "collapsed": false
   }
  }
 ],
 "metadata": {
  "kernelspec": {
   "display_name": "Python 3.9.5 ('venv': venv)",
   "language": "python",
   "name": "python3"
  },
  "language_info": {
   "codemirror_mode": {
    "name": "ipython",
    "version": 3
   },
   "file_extension": ".py",
   "mimetype": "text/x-python",
   "name": "python",
   "nbconvert_exporter": "python",
   "pygments_lexer": "ipython3",
   "version": "3.9.5"
  },
  "orig_nbformat": 4,
  "vscode": {
   "interpreter": {
    "hash": "3f9a0a7ae4c556cc9d70b63c8d6e054a1e46c823d790d1334b23650b163d6b82"
   }
  }
 },
 "nbformat": 4,
 "nbformat_minor": 2
}
